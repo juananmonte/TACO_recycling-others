{
 "cells": [
  {
   "cell_type": "markdown",
   "metadata": {
    "id": "4wEymMceED94",
    "papermill": {
     "duration": 0.046117,
     "end_time": "2021-04-23T14:48:04.408446",
     "exception": false,
     "start_time": "2021-04-23T14:48:04.362329",
     "status": "completed"
    },
    "tags": []
   },
   "source": [
    "# ENV"
   ]
  },
  {
   "cell_type": "code",
   "execution_count": null,
   "metadata": {
    "id": "eTJ6aqypED-G",
    "outputId": "b651123e-ef7a-4b76-94e3-bb5bd7edee37",
    "papermill": {
     "duration": 176.577674,
     "end_time": "2021-04-23T14:51:01.030426",
     "exception": false,
     "start_time": "2021-04-23T14:48:04.452752",
     "status": "completed"
    },
    "tags": []
   },
   "outputs": [],
   "source": [
    "#!python -m pip install detectron2==0.4 -f \\\n",
    "#  https://dl.fbaipublicfiles.com/detectron2/wheels/cu110/torch1.7/index.html\n"
   ]
  },
  {
   "cell_type": "code",
   "execution_count": null,
   "metadata": {},
   "outputs": [],
   "source": [
    "!python -m pip install detectron2==0.4 -f \\\n",
    "  https://dl.fbaipublicfiles.com/detectron2/wheels/cu102/torch1.6/index.html"
   ]
  },
  {
   "cell_type": "code",
   "execution_count": null,
   "metadata": {},
   "outputs": [],
   "source": [
    "%pip freeze | grep torch"
   ]
  },
  {
   "cell_type": "code",
   "execution_count": null,
   "metadata": {
    "id": "wK4MocOFED-O",
    "papermill": {
     "duration": 0.86761,
     "end_time": "2021-04-23T14:51:02.129064",
     "exception": false,
     "start_time": "2021-04-23T14:51:01.261454",
     "status": "completed"
    },
    "tags": []
   },
   "outputs": [],
   "source": [
    "!mkdir -p models logs configs "
   ]
  },
  {
   "cell_type": "code",
   "execution_count": null,
   "metadata": {
    "id": "ij6R7KtAED-P",
    "outputId": "691fa7cd-93e1-4182-bbad-d38da4171805",
    "papermill": {
     "duration": 1.641738,
     "end_time": "2021-04-23T14:51:03.840908",
     "exception": false,
     "start_time": "2021-04-23T14:51:02.19917",
     "status": "completed"
    },
    "tags": []
   },
   "outputs": [],
   "source": [
    "!nvidia-smi"
   ]
  },
  {
   "cell_type": "markdown",
   "metadata": {
    "id": "nQP0yElOED-Q",
    "papermill": {
     "duration": 0.070246,
     "end_time": "2021-04-23T14:51:03.981567",
     "exception": false,
     "start_time": "2021-04-23T14:51:03.911321",
     "status": "completed"
    },
    "tags": []
   },
   "source": [
    "# Imports and utils"
   ]
  },
  {
   "cell_type": "code",
   "execution_count": null,
   "metadata": {
    "_cell_guid": "b1076dfc-b9ad-4769-8c92-a6c4dae69d19",
    "_uuid": "8f2839f25d086af736a60e9eeb907d3b93b6e0e5",
    "id": "4u5GjrIPED-R",
    "papermill": {
     "duration": 3.5376,
     "end_time": "2021-04-23T14:51:07.590388",
     "exception": false,
     "start_time": "2021-04-23T14:51:04.052788",
     "status": "completed"
    },
    "tags": []
   },
   "outputs": [],
   "source": [
    "import numpy as np # linear algebra\n",
    "import pandas as pd # data processing, CSV file I/O (e.g. pd.read_csv)\n",
    "from typing import List, Optional, Union\n",
    "\n",
    "import torch\n",
    "import torchvision\n",
    "import albumentations as A\n",
    "\n",
    "\n",
    "\n",
    "import detectron2\n",
    "from detectron2.data.transforms import Transform as T\n",
    "from detectron2.data.datasets import register_coco_instances\n",
    "from detectron2.data import transforms as T\n",
    "from detectron2 import model_zoo\n",
    "from detectron2.engine import DefaultPredictor\n",
    "from detectron2.config import get_cfg\n",
    "from detectron2.utils.visualizer import Visualizer\n",
    "from detectron2.data import MetadataCatalog, DatasetCatalog, DatasetMapper, build_detection_test_loader , build_detection_train_loader\n",
    "from detectron2.engine import DefaultTrainer\n",
    "from detectron2.evaluation import COCOEvaluator, inference_on_dataset\n",
    "from detectron2.data import detection_utils as utils\n",
    "from detectron2.config import configurable\n",
    "from detectron2.engine.hooks import EvalHook\n",
    "from detectron2.modeling import build_model\n",
    "from detectron2.checkpoint import DetectionCheckpointer\n",
    "from detectron2.utils.logger import setup_logger\n",
    "setup_logger()\n",
    "\n",
    "\n",
    "from sklearn.model_selection import KFold,StratifiedKFold,StratifiedShuffleSplit,GroupKFold\n",
    "from sklearn.utils import check_random_state\n",
    "from collections import Counter, defaultdict\n",
    "import matplotlib.pyplot as plt\n",
    "import cv2\n",
    "import json\n",
    "import io\n",
    "import os\n",
    "import copy\n",
    "import random\n",
    "from IPython.display import FileLink, FileLinks\n",
    "import yaml\n",
    "from abc import ABC,ABCMeta, abstractmethod\n",
    "from yacs.config import CfgNode as CN"
   ]
  },
  {
   "cell_type": "markdown",
   "metadata": {
    "id": "CR0PbMOBED-T",
    "papermill": {
     "duration": 0.070111,
     "end_time": "2021-04-23T14:51:07.730899",
     "exception": false,
     "start_time": "2021-04-23T14:51:07.660788",
     "status": "completed"
    },
    "tags": []
   },
   "source": [
    "# Config"
   ]
  },
  {
   "cell_type": "code",
   "execution_count": null,
   "metadata": {
    "id": "RsqnTOaRR-5C"
   },
   "outputs": [],
   "source": [
    "DATASET_PATH = \"../input/tacotrashdataset\"\n",
    "LOGS_PATH = \"logs\"\n",
    "MODELS_PATH = \"models\"\n",
    "CONFIG_PATH = \"configs\""
   ]
  },
  {
   "cell_type": "code",
   "execution_count": null,
   "metadata": {
    "id": "9mL5TQiXSFEm"
   },
   "outputs": [],
   "source": [
    "_C = CN()\n",
    "_C.general=CN()\n",
    "_C.general.seed = 42\n",
    "_C.general.n_folds = 5\n",
    "_C.general.tool = \"detectron2\"\n",
    "_C.general.experiment_id = \"26-04-2021\"\n",
    "_C.general.category = \"super_category\"\n",
    "_C.general.augmentations = True\n",
    "_C.general.TTA = False\n",
    "\n",
    "_C.preprocess=CN()\n",
    "_C.preprocess.height = 1500\n",
    "_C.preprocess.width = 1500\n",
    "_C.preprocess.longest_max_size = 1500\n",
    "_C.preprocess.smallest_max_size = 1000\n",
    "\n",
    "_C.model=CN()\n",
    "_C.model.base_lr = 0.001\n",
    "_C.model.num_classes = 29 #29 if super category 60 if normal category \n",
    "_C.model.model_name = \"faster_rcnn_R_101_FPN_3x\"\n",
    "_C.model.batchsize_per_image = 1024\n",
    "#_C.model.images_per_batch = 4\n",
    "_C.model.images_per_batch = 4\n",
    "_C.model.epochs = 9"
   ]
  },
  {
   "cell_type": "code",
   "execution_count": null,
   "metadata": {
    "id": "0QQlNoxsED-U",
    "papermill": {
     "duration": 0.087339,
     "end_time": "2021-04-23T14:51:07.888505",
     "exception": false,
     "start_time": "2021-04-23T14:51:07.801166",
     "status": "completed"
    },
    "tags": []
   },
   "outputs": [],
   "source": [
    "def get_cfg_defaults():\n",
    "    \"\"\"Get a yacs CfgNode object with default values for my_project.\"\"\"\n",
    "    # Return a clone so that the defaults will not be altered\n",
    "    # This is for the \"local variable\" use pattern\n",
    "    #return _C.clone()\n",
    "    return _C\n",
    "\n",
    "def dump_cfg(config = get_cfg_defaults() , path = \"experiment.yaml\"):\n",
    "    \"\"\"Save a yacs CfgNode object in a yaml file in path.\"\"\"\n",
    "    stream = open(path, 'w')\n",
    "    stream.write(config.dump())\n",
    "    stream.close()\n",
    "\n",
    "def inject_config(funct):\n",
    "    \"\"\"Inject a yacs CfgNode object in a function as first arg.\"\"\"\n",
    "    def function_wrapper(*args,**kwargs):\n",
    "        return funct(_C,*args,**kwargs)  \n",
    "    return function_wrapper\n",
    "\n",
    "def dump_dict(config,path=\"config.yaml\"):\n",
    "        stream = open(path, 'w')\n",
    "        yaml.dump(config,stream)\n",
    "        stream.close()\n",
    "\n",
    "c=get_cfg_defaults()"
   ]
  },
  {
   "cell_type": "code",
   "execution_count": null,
   "metadata": {
    "id": "NWhZpAG8ED-W",
    "papermill": {
     "duration": 0.082547,
     "end_time": "2021-04-23T14:51:08.041472",
     "exception": false,
     "start_time": "2021-04-23T14:51:07.958925",
     "status": "completed"
    },
    "tags": []
   },
   "outputs": [],
   "source": [
    "dump_cfg(path = os.path.join(LOGS_PATH , \"experiment.yaml\"))"
   ]
  },
  {
   "cell_type": "markdown",
   "metadata": {
    "id": "FM4UyIkMED-X",
    "papermill": {
     "duration": 0.070022,
     "end_time": "2021-04-23T14:51:08.182391",
     "exception": false,
     "start_time": "2021-04-23T14:51:08.112369",
     "status": "completed"
    },
    "tags": []
   },
   "source": [
    "# SEED"
   ]
  },
  {
   "cell_type": "code",
   "execution_count": null,
   "metadata": {
    "id": "jJdQmFwbED-Z",
    "papermill": {
     "duration": 0.082504,
     "end_time": "2021-04-23T14:51:08.33602",
     "exception": false,
     "start_time": "2021-04-23T14:51:08.253516",
     "status": "completed"
    },
    "tags": []
   },
   "outputs": [],
   "source": [
    "@inject_config\n",
    "def seed_all(config):\n",
    "    \"\"\"\n",
    "    seed my experiments to be able to reproduce\n",
    "    \"\"\"\n",
    "    seed_value=config.general[\"seed\"]\n",
    "    random.seed(seed_value) # Python\n",
    "    np.random.seed(seed_value) # cpu vars\n",
    "    torch.manual_seed(seed_value) # cpu  vars\n",
    "    os.environ['PYTHONHASHSEED'] = str(seed_value)\n",
    "    \n",
    "    if torch.cuda.is_available(): \n",
    "        torch.cuda.manual_seed(seed_value)\n",
    "        torch.cuda.manual_seed_all(seed_value) # gpu vars\n",
    "        torch.backends.cudnn.deterministic = True  #needed\n",
    "        torch.backends.cudnn.benchmark = False"
   ]
  },
  {
   "cell_type": "markdown",
   "metadata": {
    "id": "MDqBVC89ED-a",
    "papermill": {
     "duration": 0.070811,
     "end_time": "2021-04-23T14:51:08.479002",
     "exception": false,
     "start_time": "2021-04-23T14:51:08.408191",
     "status": "completed"
    },
    "tags": []
   },
   "source": [
    "# FIX annotation duplicated ids and negative bboxes\n",
    "\n",
    "repeated annotations idx \n",
    "\n",
    "308 => 0\n",
    "\n",
    "4039  =>2197\n"
   ]
  },
  {
   "cell_type": "code",
   "execution_count": null,
   "metadata": {
    "id": "ANn9_6WsED-a",
    "papermill": {
     "duration": 0.298522,
     "end_time": "2021-04-23T14:51:08.848765",
     "exception": false,
     "start_time": "2021-04-23T14:51:08.550243",
     "status": "completed"
    },
    "tags": []
   },
   "outputs": [],
   "source": [
    "annot=json.load(open(os.path.join(DATASET_PATH,\"data/annotations.json\")))\n",
    "annot[\"annotations\"][308][\"id\"]=0\n",
    "annot[\"annotations\"][4039][\"id\"]=2197"
   ]
  },
  {
   "cell_type": "markdown",
   "metadata": {
    "id": "6xFUGtpxED-a",
    "papermill": {
     "duration": 0.071253,
     "end_time": "2021-04-23T14:51:08.992582",
     "exception": false,
     "start_time": "2021-04-23T14:51:08.921329",
     "status": "completed"
    },
    "tags": []
   },
   "source": [
    "## delete negative BBOX"
   ]
  },
  {
   "cell_type": "code",
   "execution_count": null,
   "metadata": {
    "id": "-VlzvW8JED-b",
    "papermill": {
     "duration": 0.088183,
     "end_time": "2021-04-23T14:51:09.153366",
     "exception": false,
     "start_time": "2021-04-23T14:51:09.065183",
     "status": "completed"
    },
    "tags": []
   },
   "outputs": [],
   "source": [
    "annot_to_delete=[]\n",
    "for idx,annotation in enumerate(annot[\"annotations\"]):\n",
    "    if (annotation[\"bbox\"][0]<0 or annotation[\"bbox\"][1]<0 or\n",
    "        annotation[\"bbox\"][2]<0 or annotation[\"bbox\"][3]<0):\n",
    "        annot_to_delete.append(idx)\n",
    "for pos,idx in enumerate(annot_to_delete):\n",
    "    del annot[\"annotations\"][idx-pos]\n"
   ]
  },
  {
   "cell_type": "code",
   "execution_count": null,
   "metadata": {
    "id": "kZcq7GCDED-b",
    "papermill": {
     "duration": 0.688923,
     "end_time": "2021-04-23T14:51:09.912657",
     "exception": false,
     "start_time": "2021-04-23T14:51:09.223734",
     "status": "completed"
    },
    "tags": []
   },
   "outputs": [],
   "source": [
    "json.dump(annot,open(\"new_annotations.json\",\"w\"))"
   ]
  },
  {
   "cell_type": "markdown",
   "metadata": {
    "id": "ptphgt97ED-c",
    "papermill": {
     "duration": 0.070808,
     "end_time": "2021-04-23T14:51:10.194991",
     "exception": false,
     "start_time": "2021-04-23T14:51:10.124183",
     "status": "completed"
    },
    "tags": []
   },
   "source": [
    "# Annotation Preprocess and Visualization"
   ]
  },
  {
   "cell_type": "markdown",
   "metadata": {
    "id": "-sR-XOdvED-c",
    "papermill": {
     "duration": 0.070883,
     "end_time": "2021-04-23T14:51:10.337426",
     "exception": false,
     "start_time": "2021-04-23T14:51:10.266543",
     "status": "completed"
    },
    "tags": []
   },
   "source": [
    "## Categories and Super categories dict"
   ]
  },
  {
   "cell_type": "code",
   "execution_count": null,
   "metadata": {
    "id": "afefHsVYED-d",
    "papermill": {
     "duration": 0.081856,
     "end_time": "2021-04-23T14:51:10.490764",
     "exception": false,
     "start_time": "2021-04-23T14:51:10.408908",
     "status": "completed"
    },
    "tags": []
   },
   "outputs": [],
   "source": [
    "categories={ annotation[\"id\"] : annotation[\"name\"] for annotation in annot[\"categories\"]}\n",
    "super_categories={ annotation[\"id\"] : annotation[\"supercategory\"] for annotation in annot[\"categories\"]}"
   ]
  },
  {
   "cell_type": "markdown",
   "metadata": {
    "id": "IA_JHKt0ED-f",
    "papermill": {
     "duration": 0.070831,
     "end_time": "2021-04-23T14:51:10.788236",
     "exception": false,
     "start_time": "2021-04-23T14:51:10.717405",
     "status": "completed"
    },
    "tags": []
   },
   "source": [
    "## Preprocess"
   ]
  },
  {
   "cell_type": "code",
   "execution_count": null,
   "metadata": {
    "id": "2VFDgjvVED-f",
    "papermill": {
     "duration": 0.109239,
     "end_time": "2021-04-23T14:51:10.966961",
     "exception": false,
     "start_time": "2021-04-23T14:51:10.857722",
     "status": "completed"
    },
    "tags": []
   },
   "outputs": [],
   "source": [
    "annot_df=pd.DataFrame(annot[\"annotations\"])\n",
    "images_df=pd.DataFrame(annot[\"images\"])"
   ]
  },
  {
   "cell_type": "code",
   "execution_count": null,
   "metadata": {
    "id": "axg8vADJED-f",
    "outputId": "5add80ef-22f9-4d09-9b39-f4d465d58eb3",
    "papermill": {
     "duration": 0.10744,
     "end_time": "2021-04-23T14:51:11.145197",
     "exception": false,
     "start_time": "2021-04-23T14:51:11.037757",
     "status": "completed"
    },
    "tags": []
   },
   "outputs": [],
   "source": [
    "images_df.describe()"
   ]
  },
  {
   "cell_type": "markdown",
   "metadata": {
    "id": "lUiH0qtEXj58"
   },
   "source": [
    "### Choose between normal categories or super categories"
   ]
  },
  {
   "cell_type": "code",
   "execution_count": null,
   "metadata": {
    "id": "nY1UmdtiED-g",
    "papermill": {
     "duration": 0.112555,
     "end_time": "2021-04-23T14:51:11.484975",
     "exception": false,
     "start_time": "2021-04-23T14:51:11.37242",
     "status": "completed"
    },
    "tags": []
   },
   "outputs": [],
   "source": [
    "annot_df[\"category\"]=annot_df[\"category_id\"].apply(lambda value : categories[value])\n",
    "annot_df[\"super_category\"]=annot_df[\"category_id\"].apply(lambda value : super_categories[value])\n",
    "super_category_to_index={value : key for key,value in enumerate(annot_df[\"super_category\"].unique())}\n",
    "annot_df[\"super_category_id\"]=annot_df[\"super_category\"].apply(lambda value : super_category_to_index[value])\n",
    "annot_df[\"normal_category_id\"]=annot_df[\"category_id\"]\n",
    "annot_df[\"normal_category\"]=annot_df[\"category\"]\n",
    "if c.general[\"category\"] != \"normal_category\":\n",
    "    annot_df[\"category_id\"]=annot_df[\"super_category_id\"]\n",
    "    annot_df[\"category\"]=annot_df[\"super_category\"]\n",
    "    annot_cat=annot_df.groupby(\"category_id\")[[\"category_id\",\"category\",\"super_category\"]].first()\n",
    "    annot_cat.columns=[\"id\",\"name\",\"supercategory\"]\n",
    "    annot[\"categories\"]=annot_cat.to_dict(\"records\")\n",
    "\n",
    "                       "
   ]
  },
  {
   "cell_type": "code",
   "execution_count": null,
   "metadata": {
    "id": "kbeKt9MKED-h",
    "papermill": {
     "duration": 0.084551,
     "end_time": "2021-04-23T14:51:11.643426",
     "exception": false,
     "start_time": "2021-04-23T14:51:11.558875",
     "status": "completed"
    },
    "tags": []
   },
   "outputs": [],
   "source": [
    "categories = {}\n",
    "for id , name in zip(annot_df[\"category_id\"],annot_df[\"category\"]):\n",
    "    categories[id]=name"
   ]
  },
  {
   "cell_type": "code",
   "execution_count": null,
   "metadata": {
    "id": "KKi6DDiZED-h",
    "outputId": "d6afa885-1ba2-4a7a-eab6-f1a3a12bf555",
    "papermill": {
     "duration": 0.08435,
     "end_time": "2021-04-23T14:51:11.799758",
     "exception": false,
     "start_time": "2021-04-23T14:51:11.715408",
     "status": "completed"
    },
    "tags": []
   },
   "outputs": [],
   "source": [
    "categories"
   ]
  },
  {
   "cell_type": "markdown",
   "metadata": {
    "id": "TcJOY-OPED-i",
    "papermill": {
     "duration": 0.07453,
     "end_time": "2021-04-23T14:51:11.948333",
     "exception": false,
     "start_time": "2021-04-23T14:51:11.873803",
     "status": "completed"
    },
    "tags": []
   },
   "source": [
    "## Visualization"
   ]
  },
  {
   "cell_type": "code",
   "execution_count": null,
   "metadata": {
    "id": "NxqT7Z8fED-i",
    "outputId": "5cc8cf94-2fc3-4492-8876-a629141aa0de",
    "papermill": {
     "duration": 0.112494,
     "end_time": "2021-04-23T14:51:12.135331",
     "exception": false,
     "start_time": "2021-04-23T14:51:12.022837",
     "status": "completed"
    },
    "tags": []
   },
   "outputs": [],
   "source": [
    "annot_df.head()"
   ]
  },
  {
   "cell_type": "code",
   "execution_count": null,
   "metadata": {
    "id": "WbXgBm4tED-i",
    "outputId": "5b6df7e0-802c-4739-c7df-06d6487cba68",
    "papermill": {
     "duration": 0.318646,
     "end_time": "2021-04-23T14:51:12.529282",
     "exception": false,
     "start_time": "2021-04-23T14:51:12.210636",
     "status": "completed"
    },
    "tags": []
   },
   "outputs": [],
   "source": [
    "annot_df[\"category\"].value_counts().head(10).plot(kind=\"bar\",title=\"annotations category distribution\")"
   ]
  },
  {
   "cell_type": "code",
   "execution_count": null,
   "metadata": {
    "id": "UxvCar9RED-j",
    "outputId": "f74b7df2-293c-485c-da10-d6b9deba255e",
    "papermill": {
     "duration": 0.318322,
     "end_time": "2021-04-23T14:51:12.923101",
     "exception": false,
     "start_time": "2021-04-23T14:51:12.604779",
     "status": "completed"
    },
    "tags": []
   },
   "outputs": [],
   "source": [
    "annot_df[\"super_category\"].value_counts().head(10).plot(kind=\"bar\",title=\"annotations super category distribution\")"
   ]
  },
  {
   "cell_type": "markdown",
   "metadata": {
    "id": "ut0e6sLmED-k",
    "papermill": {
     "duration": 0.077055,
     "end_time": "2021-04-23T14:51:13.077592",
     "exception": false,
     "start_time": "2021-04-23T14:51:13.000537",
     "status": "completed"
    },
    "tags": []
   },
   "source": [
    "# Kfold"
   ]
  },
  {
   "cell_type": "code",
   "execution_count": null,
   "metadata": {
    "id": "8ABEczYtTURi"
   },
   "outputs": [],
   "source": [
    "class RepeatedStratifiedGroupKFold():\n",
    "\n",
    "    def __init__(self, n_splits=5, n_repeats=1, random_state=None):\n",
    "        self.n_splits = n_splits\n",
    "        self.n_repeats = n_repeats\n",
    "        self.random_state = random_state\n",
    "        \n",
    "    def split(self, X, y=None, groups=None):\n",
    "        k = self.n_splits\n",
    "        def eval_y_counts_per_fold(y_counts, fold):\n",
    "            y_counts_per_fold[fold] += y_counts\n",
    "            std_per_label = []\n",
    "            for label in range(labels_num):\n",
    "                label_std = np.std(\n",
    "                    [y_counts_per_fold[i][label] / y_distr[label] for i in range(k)]\n",
    "                )\n",
    "                std_per_label.append(label_std)\n",
    "            y_counts_per_fold[fold] -= y_counts\n",
    "            return np.mean(std_per_label)\n",
    "            \n",
    "        rnd = check_random_state(self.random_state)\n",
    "        for repeat in range(self.n_repeats):\n",
    "            #print(np.max(y))\n",
    "            labels_num = np.max(y) + 1\n",
    "            y_counts_per_group = defaultdict(lambda: np.zeros(labels_num))\n",
    "            y_distr = Counter()\n",
    "            for label, g in zip(y, groups):\n",
    "                y_counts_per_group[g][label] += 1\n",
    "                y_distr[label] += 1\n",
    "\n",
    "            y_counts_per_fold = defaultdict(lambda: np.zeros(labels_num))\n",
    "            groups_per_fold = defaultdict(set)\n",
    "        \n",
    "            groups_and_y_counts = list(y_counts_per_group.items())\n",
    "            rnd.shuffle(groups_and_y_counts)\n",
    "\n",
    "            for g, y_counts in sorted(groups_and_y_counts, key=lambda x: -np.std(x[1])):\n",
    "                best_fold = None\n",
    "                min_eval = None\n",
    "                for i in range(k):\n",
    "                    fold_eval = eval_y_counts_per_fold(y_counts, i)\n",
    "                    if min_eval is None or fold_eval < min_eval:\n",
    "                        min_eval = fold_eval\n",
    "                        best_fold = i\n",
    "                y_counts_per_fold[best_fold] += y_counts\n",
    "                groups_per_fold[best_fold].add(g)\n",
    "            \n",
    "            all_groups = set(groups)\n",
    "            for i in range(k):\n",
    "                train_groups = all_groups - groups_per_fold[i]\n",
    "                test_groups = groups_per_fold[i]\n",
    "\n",
    "                train_indices = [i for i, g in enumerate(groups) if g in train_groups]\n",
    "                test_indices = [i for i, g in enumerate(groups) if g in test_groups]\n",
    "\n",
    "                yield train_indices, test_indices\n"
   ]
  },
  {
   "cell_type": "code",
   "execution_count": null,
   "metadata": {
    "id": "3brGgIm0ED-l",
    "papermill": {
     "duration": 0.088794,
     "end_time": "2021-04-23T14:51:13.243259",
     "exception": false,
     "start_time": "2021-04-23T14:51:13.154465",
     "status": "completed"
    },
    "tags": []
   },
   "outputs": [],
   "source": [
    "@inject_config\n",
    "def kfold_split(config,df):\n",
    "    seed_all()\n",
    "    df[\"folds\"]=-1\n",
    "    #kf = GroupKFold(n_splits=config.general[\"n_folds\"])\n",
    "    kf = RepeatedStratifiedGroupKFold(n_splits=config.general[\"n_folds\"], random_state=config.general[\"seed\"])\n",
    "    #for fold, (_, val_index) in enumerate(kf.split(df,groups=df[\"image_id\"])):\n",
    "    for fold, (_, val_index) in enumerate(kf.split(df,df.category_id, df.image_id)):\n",
    "            df.loc[val_index, \"folds\"] = fold\n",
    "    return df"
   ]
  },
  {
   "cell_type": "code",
   "execution_count": null,
   "metadata": {
    "id": "J3HS1q84ED-l",
    "papermill": {
     "duration": 0.595037,
     "end_time": "2021-04-23T14:51:13.917926",
     "exception": false,
     "start_time": "2021-04-23T14:51:13.322889",
     "status": "completed"
    },
    "tags": []
   },
   "outputs": [],
   "source": [
    "annot_df=kfold_split(annot_df)"
   ]
  },
  {
   "cell_type": "code",
   "execution_count": null,
   "metadata": {
    "id": "iP7jcmIKED-l",
    "outputId": "4e027238-31e5-4832-97c8-e83c6c9bcebe",
    "papermill": {
     "duration": 0.342897,
     "end_time": "2021-04-23T14:51:14.347507",
     "exception": false,
     "start_time": "2021-04-23T14:51:14.00461",
     "status": "completed"
    },
    "tags": []
   },
   "outputs": [],
   "source": [
    "annot_df[annot_df[\"folds\"]==0][\"category\"].value_counts().head(10).plot(kind=\"bar\",title=\"Test annotations category distribution\")"
   ]
  },
  {
   "cell_type": "code",
   "execution_count": null,
   "metadata": {
    "id": "4_wUBaCAED-n",
    "outputId": "ffcf435d-e0da-4ed1-9a71-91b28db0b7ef",
    "papermill": {
     "duration": 0.307618,
     "end_time": "2021-04-23T14:51:14.739884",
     "exception": false,
     "start_time": "2021-04-23T14:51:14.432266",
     "status": "completed"
    },
    "tags": []
   },
   "outputs": [],
   "source": [
    "annot_df[annot_df[\"folds\"]!=0][\"category\"].value_counts().head(10).plot(kind=\"bar\",title=\"Train annotations category distribution\")"
   ]
  },
  {
   "cell_type": "code",
   "execution_count": null,
   "metadata": {
    "id": "9-jU6eJQED-n",
    "outputId": "be0a3412-e3f6-41b0-f83c-2f6626145584",
    "papermill": {
     "duration": 0.298888,
     "end_time": "2021-04-23T14:51:15.122495",
     "exception": false,
     "start_time": "2021-04-23T14:51:14.823607",
     "status": "completed"
    },
    "tags": []
   },
   "outputs": [],
   "source": [
    "annot_df[annot_df[\"folds\"]==0][\"super_category\"].value_counts().head(10).plot(kind=\"bar\",title=\"Test annotations super category distribution\")"
   ]
  },
  {
   "cell_type": "code",
   "execution_count": null,
   "metadata": {
    "id": "3sM5GkMeED-n",
    "outputId": "dd9794d1-b555-4316-d4c0-c6173157f18e",
    "papermill": {
     "duration": 0.298614,
     "end_time": "2021-04-23T14:51:15.504966",
     "exception": false,
     "start_time": "2021-04-23T14:51:15.206352",
     "status": "completed"
    },
    "tags": []
   },
   "outputs": [],
   "source": [
    "annot_df[annot_df[\"folds\"]==0][\"super_category\"].value_counts().head(10).plot(kind=\"bar\",title=\"Train annotations super category distribution\")"
   ]
  },
  {
   "cell_type": "markdown",
   "metadata": {
    "id": "4C1dlvNlED-n",
    "papermill": {
     "duration": 0.16176,
     "end_time": "2021-04-23T14:51:15.809793",
     "exception": false,
     "start_time": "2021-04-23T14:51:15.648033",
     "status": "completed"
    },
    "tags": []
   },
   "source": [
    "# Register Dataset"
   ]
  },
  {
   "cell_type": "code",
   "execution_count": null,
   "metadata": {
    "id": "I1wuP7ZpED-o",
    "papermill": {
     "duration": 0.181084,
     "end_time": "2021-04-23T14:51:16.140183",
     "exception": false,
     "start_time": "2021-04-23T14:51:15.959099",
     "status": "completed"
    },
    "tags": []
   },
   "outputs": [],
   "source": [
    "@inject_config\n",
    "def register_dataset(config,fold):\n",
    "    train_dataset_name=f\"my_dataset_train_{fold}\"\n",
    "    test_dataset_name=f\"my_dataset_test_{fold}\"\n",
    "    train_dataset_file=f\"my_dataset_train_{fold}.json\"\n",
    "    test_dataset_file=f\"my_dataset_test_{fold}.json\"\n",
    "    \n",
    "    train_annot_df=annot_df[annot_df[\"folds\"]!=fold]\n",
    "    test_annot_df=annot_df[annot_df[\"folds\"]==fold]\n",
    "    train_annot_df=train_annot_df.drop([\"normal_category\",\"normal_category_id\"],axis=1)\n",
    "    test_annot_df=test_annot_df.drop([\"normal_category\",\"normal_category_id\"],axis=1)\n",
    "\n",
    "    train_images_df=images_df[images_df[\"id\"].apply(lambda i:True if i in list(train_annot_df[\"image_id\"].unique()) else False)]\n",
    "    test_images_df=images_df[images_df[\"id\"].apply(lambda i:True if i in list(test_annot_df[\"image_id\"].unique()) else False)]\n",
    "    \n",
    "    train_annot=annot.copy()\n",
    "    test_annot=annot.copy()\n",
    "    \n",
    "    train_annot[\"annotations\"]=train_annot_df.reset_index(drop=True).to_dict(\"records\")\n",
    "    train_annot[\"images\"]=train_images_df.reset_index(drop=True).to_dict(\"records\")\n",
    "    test_annot[\"annotations\"]=test_annot_df.reset_index(drop=True).to_dict(\"records\")\n",
    "    test_annot[\"images\"]=test_images_df.reset_index(drop=True).to_dict(\"records\")\n",
    "    \n",
    "    json.dump(train_annot,open(train_dataset_file,\"w\"))\n",
    "    json.dump(test_annot,open(test_dataset_file,\"w\"))\n",
    "    \n",
    "    if train_dataset_name in DatasetCatalog.list():\n",
    "        DatasetCatalog.remove(train_dataset_name)\n",
    "        MetadataCatalog.remove(train_dataset_name)\n",
    "    if test_dataset_name in DatasetCatalog.list():\n",
    "        DatasetCatalog.remove(test_dataset_name)\n",
    "        MetadataCatalog.remove(test_dataset_name)\n",
    "        \n",
    "    register_coco_instances(train_dataset_name, {}, train_dataset_file, os.path.join(DATASET_PATH,\"data\"))\n",
    "    register_coco_instances(test_dataset_name, {}, test_dataset_file, os.path.join(DATASET_PATH,\"data\"))\n"
   ]
  },
  {
   "cell_type": "markdown",
   "metadata": {
    "id": "N3AeKe2eED-o",
    "papermill": {
     "duration": 0.083599,
     "end_time": "2021-04-23T14:51:16.344956",
     "exception": false,
     "start_time": "2021-04-23T14:51:16.261357",
     "status": "completed"
    },
    "tags": []
   },
   "source": [
    "# Preprocess and augmentations "
   ]
  },
  {
   "cell_type": "code",
   "execution_count": null,
   "metadata": {
    "id": "tFNeqTcXED-p",
    "papermill": {
     "duration": 0.106876,
     "end_time": "2021-04-23T14:51:16.738605",
     "exception": false,
     "start_time": "2021-04-23T14:51:16.631729",
     "status": "completed"
    },
    "tags": []
   },
   "outputs": [],
   "source": [
    "@inject_config\n",
    "def get_train_transforms(config):\n",
    "    return A.Compose(\n",
    "        [\n",
    "            A.OneOf([\n",
    "                A.HueSaturationValue(hue_shift_limit=0.1, sat_shift_limit= 0.1, \n",
    "                                     val_shift_limit=0.1, p=0.8),\n",
    "                A.RandomBrightnessContrast(brightness_limit=0.3, \n",
    "                                           contrast_limit=0.2, p=0.8),\n",
    "            ],p=0.7),\n",
    "            A.Rotate (limit=15, interpolation=1, border_mode=4, value=None, mask_value=None, p=0.8),\n",
    "            \n",
    "            \n",
    "            A.HorizontalFlip(p=0.5),\n",
    "            A.VerticalFlip(p=0.5),\n",
    "            A.RandomResizedCrop (config.preprocess.height, config.preprocess.width, scale=(0.8, 0.8), ratio=(0.75, 1.3333333333333333), interpolation=1, always_apply=False, p=0.1),\n",
    "            A.OneOf([\n",
    "            A.Resize(height=config.preprocess.height, width=config.preprocess.width, p=0.2),\n",
    "            A.LongestMaxSize(max_size=config.preprocess.longest_max_size, p=0.2),\n",
    "            A.SmallestMaxSize(max_size=config.preprocess.smallest_max_size, p=0.2),\n",
    "                \n",
    "            ], p=1),\n",
    "            A.CLAHE(clip_limit=[1,4],p=1),\n",
    "            \n",
    "        ], \n",
    "        p=1.0, \n",
    "        bbox_params=A.BboxParams(\n",
    "            format='coco',\n",
    "            min_area=0.5, \n",
    "            min_visibility=0.5,\n",
    "            label_fields=['category_id']\n",
    "        )\n",
    "    )\n",
    "\n",
    "@inject_config\n",
    "def get_valid_transforms(config):\n",
    "    return A.Compose(\n",
    "        [\n",
    "            A.SmallestMaxSize(max_size=config.preprocess.smallest_max_size, p=1.0),\n",
    "            A.CLAHE(clip_limit=[3,3],p=1),   \n",
    "        ], \n",
    "        p=1.0, \n",
    "        bbox_params=A.BboxParams(\n",
    "            format='coco',\n",
    "            min_area=0.5, \n",
    "            min_visibility=0.5,\n",
    "            label_fields=['category_id']\n",
    "        )\n",
    "    )\n",
    "\n",
    "def get_transforms(train=True):\n",
    "    if (train):\n",
    "        return get_train_transforms()\n",
    "    return get_valid_transforms()\n",
    "albu_transformations=get_transforms(train=True)"
   ]
  },
  {
   "cell_type": "markdown",
   "metadata": {
    "id": "uHP92WtLGeOG"
   },
   "source": [
    "# Personal mapper"
   ]
  },
  {
   "cell_type": "code",
   "execution_count": null,
   "metadata": {
    "id": "MbnJvmRmED-r",
    "papermill": {
     "duration": 0.116867,
     "end_time": "2021-04-23T14:51:16.938464",
     "exception": false,
     "start_time": "2021-04-23T14:51:16.821597",
     "status": "completed"
    },
    "tags": []
   },
   "outputs": [],
   "source": [
    "class PersonalMapper (detectron2.data.DatasetMapper):\n",
    "    \"\"\"\n",
    "    Define a detectron2 personal mapper in order to be able to use albumentation augmentations\n",
    "    \"\"\"\n",
    "    def __call__(self, dataset_dict):\n",
    "        \"\"\"\n",
    "        Args:\n",
    "            dataset_dict (dict): Metadata of one image, in Detectron2 Dataset format.\n",
    "\n",
    "        Returns:\n",
    "            dict: a format that builtin models in detectron2 accept\n",
    "        \"\"\"\n",
    "        dataset_dict = copy.deepcopy(dataset_dict)  # it will be modified by code below\n",
    "        # USER: Write your own image loading if it's not from a file\n",
    "        image = utils.read_image(dataset_dict[\"file_name\"], format=self.image_format)\n",
    "        #utils.check_image_size(dataset_dict, image)\n",
    "\n",
    "        \n",
    "        \n",
    "        ##### ADDED PART\n",
    "\n",
    "        #print(\"dataset dict : \",dataset_dict)\n",
    "\n",
    "        annos = [\n",
    "            obj for obj in dataset_dict[\"annotations\"]\n",
    "        ]\n",
    "        annos_bbox = [\n",
    "            obj[\"bbox\"] for obj in dataset_dict[\"annotations\"]\n",
    "        ]\n",
    "        annos_categroy_id = [\n",
    "            obj[\"category_id\"] for obj in dataset_dict.pop(\"annotations\")\n",
    "        ]\n",
    "        \n",
    "        if albu_transformations is not None:\n",
    "            transform_list=get_transforms(self.is_train)\n",
    "            image=cv2.cvtColor(image, cv2.COLOR_BGR2RGB)\n",
    "            transform_result=transform_list(image=image,bboxes=annos_bbox,category_id=annos_categroy_id)\n",
    "            image=cv2.cvtColor(transform_result[\"image\"], cv2.COLOR_RGB2BGR)\n",
    "            annos=[annos[i] for i in range(len(transform_result[\"bboxes\"]))]\n",
    "            for i in range(len(annos)):\n",
    "                annos[i][\"bbox\"]=list(transform_result[\"bboxes\"][i])\n",
    "                annos[i][\"category_id\"]=transform_result[\"category_id\"][i]\n",
    "        \n",
    "        dataset_dict[\"annotations\"]=annos\n",
    "        \n",
    "        \n",
    "        ##### ADDED PART\n",
    "        \n",
    "        # USER: Remove if you don't do semantic/panoptic segmentation.\n",
    "        if \"sem_seg_file_name\" in dataset_dict:\n",
    "            sem_seg_gt = utils.read_image(dataset_dict.pop(\"sem_seg_file_name\"), \"L\").squeeze(2)\n",
    "        else:\n",
    "            sem_seg_gt = None\n",
    "\n",
    "        aug_input = T.AugInput(image, sem_seg=sem_seg_gt)\n",
    "        transforms = self.augmentations(aug_input)\n",
    "        image, sem_seg_gt = aug_input.image, aug_input.sem_seg\n",
    "\n",
    "        image_shape = image.shape[:2]  # h, w\n",
    "        # Pytorch's dataloader is efficient on torch.Tensor due to shared-memory,\n",
    "        # but not efficient on large generic data structures due to the use of pickle & mp.Queue.\n",
    "        # Therefore it's important to use torch.Tensor.\n",
    "        dataset_dict[\"image\"] = torch.as_tensor(np.ascontiguousarray(image.transpose(2, 0, 1)))\n",
    "        if sem_seg_gt is not None:\n",
    "            dataset_dict[\"sem_seg\"] = torch.as_tensor(sem_seg_gt.astype(\"long\"))\n",
    "\n",
    "        # USER: Remove if you don't use pre-computed proposals.\n",
    "        # Most users would not need this feature.\n",
    "        if self.proposal_topk is not None:\n",
    "            utils.transform_proposals(\n",
    "                dataset_dict, image_shape, transforms, proposal_topk=self.proposal_topk\n",
    "            )\n",
    "\n",
    "        if not self.is_train:\n",
    "            # USER: Modify this if you want to keep them for some reason.\n",
    "            dataset_dict.pop(\"annotations\", None)\n",
    "            dataset_dict.pop(\"sem_seg_file_name\", None)\n",
    "            return dataset_dict\n",
    "\n",
    "        if \"annotations\" in dataset_dict:\n",
    "            # USER: Modify this if you want to keep them for some reason.\n",
    "            for anno in dataset_dict[\"annotations\"]:\n",
    "                if not self.use_instance_mask:\n",
    "                    anno.pop(\"segmentation\", None)\n",
    "                if not self.use_keypoint:\n",
    "                    anno.pop(\"keypoints\", None)\n",
    "\n",
    "            # USER: Implement additional transformations if you have other types of data\n",
    "            annos = [\n",
    "                utils.transform_instance_annotations(\n",
    "                    obj, transforms, image_shape, keypoint_hflip_indices=self.keypoint_hflip_indices\n",
    "                )\n",
    "                for obj in dataset_dict.pop(\"annotations\")\n",
    "                if obj.get(\"iscrowd\", 0) == 0\n",
    "            ]\n",
    "            instances = utils.annotations_to_instances(\n",
    "                annos, image_shape, mask_format=self.instance_mask_format\n",
    "            )\n",
    "\n",
    "            # After transforms such as cropping are applied, the bounding box may no longer\n",
    "            # tightly bound the object. As an example, imagine a triangle object\n",
    "            # [(0,0), (2,0), (0,2)] cropped by a box [(1,0),(2,2)] (XYXY format). The tight\n",
    "            # bounding box of the cropped triangle should be [(1,0),(2,1)], which is not equal to\n",
    "            # the intersection of original bounding box and the cropping box.\n",
    "            if self.recompute_boxes:\n",
    "                instances.gt_boxes = instances.gt_masks.get_bounding_boxes()\n",
    "            dataset_dict[\"instances\"] = utils.filter_empty_instances(instances)\n",
    "        return dataset_dict"
   ]
  },
  {
   "cell_type": "markdown",
   "metadata": {
    "id": "uguNAheFED-v",
    "papermill": {
     "duration": 0.123666,
     "end_time": "2021-04-23T14:51:20.824828",
     "exception": false,
     "start_time": "2021-04-23T14:51:20.701162",
     "status": "completed"
    },
    "tags": []
   },
   "source": [
    "# Build Trainer"
   ]
  },
  {
   "cell_type": "code",
   "execution_count": null,
   "metadata": {
    "id": "ENHtg1FBED-v",
    "papermill": {
     "duration": 0.144725,
     "end_time": "2021-04-23T14:51:21.094789",
     "exception": false,
     "start_time": "2021-04-23T14:51:20.950064",
     "status": "completed"
    },
    "tags": []
   },
   "outputs": [],
   "source": [
    "class PersonalTrainer (detectron2.engine.defaults.DefaultTrainer):\n",
    "    \"\"\"\n",
    "    Personal trainer based on detectron2 DefaultTrainer to add some hooks and change data loaders\n",
    "    \"\"\"\n",
    "    \n",
    "    def __init__(self, cfg , config=c):\n",
    "        super().__init__(cfg)\n",
    "        self.metric=0\n",
    "        self.checkpointer.save_dir=MODELS_PATH\n",
    "\n",
    "        \n",
    "    def build_hooks(self):\n",
    "        hooks = super().build_hooks()\n",
    "        def save_best_model():\n",
    "            \n",
    "            metric=self.test(self.cfg, self.model)[\"bbox\"][\"AP50\"]\n",
    "            if(metric>self.metric):\n",
    "                self.metric=metric\n",
    "                self.checkpointer.save(\"best_model\") # it will add .pth alone\n",
    "                \n",
    "        steps_per_epoch=annot_df.shape[0]//c.model[\"images_per_batch\"]\n",
    "        model_checkpointer=EvalHook(steps_per_epoch, save_best_model)\n",
    "        hooks.insert(-1,model_checkpointer)\n",
    "        return hooks\n",
    "    \n",
    "    @classmethod\n",
    "    def build_train_loader(cls, cfg):\n",
    "        \n",
    "        #return build_detection_train_loader(cfg,mapper=DatasetMapper(cfg,is_train=True,))\n",
    "        return build_detection_train_loader(cfg,mapper=PersonalMapper(cfg,is_train=True,augmentations=[]))\n",
    "    @classmethod\n",
    "    def build_test_loader(cls, cfg, dataset_name):\n",
    "        \n",
    "        #return build_detection_test_loader( cfg,dataset_name,mapper=DatasetMapper(cfg,is_train=False,))\n",
    "        return build_detection_test_loader( cfg,dataset_name,mapper=PersonalMapper(cfg,is_train=False,augmentations=[]))\n",
    "\n",
    "    \n",
    "    @classmethod\n",
    "    def build_evaluator(cls, cfg, dataset_name):\n",
    "        return COCOEvaluator(dataset_name, (\"bbox\",), False, output_dir=None)"
   ]
  },
  {
   "cell_type": "markdown",
   "metadata": {
    "id": "8rBP7049ED-w",
    "papermill": {
     "duration": 0.127295,
     "end_time": "2021-04-23T14:51:21.346466",
     "exception": false,
     "start_time": "2021-04-23T14:51:21.219171",
     "status": "completed"
    },
    "tags": []
   },
   "source": [
    "# Prepare config params"
   ]
  },
  {
   "cell_type": "code",
   "execution_count": null,
   "metadata": {
    "id": "9ytbXLftED-w",
    "papermill": {
     "duration": 0.144813,
     "end_time": "2021-04-23T14:51:21.618123",
     "exception": false,
     "start_time": "2021-04-23T14:51:21.47331",
     "status": "completed"
    },
    "tags": []
   },
   "outputs": [],
   "source": [
    "@inject_config\n",
    "def get_config(config,fold=0):\n",
    "    \"\"\"\n",
    "    Detectron2 config\n",
    "    \"\"\"\n",
    "    steps_per_epoch=annot_df.shape[0]//config.model[\"images_per_batch\"]\n",
    "    train_dataset_name=f\"my_dataset_train_{fold}\"\n",
    "    test_dataset_name=f\"my_dataset_test_{fold}\"\n",
    "    cfg = get_cfg()\n",
    "    cfg.MODEL.DEVICE='cuda' if torch.cuda.is_available() else 'cpu'\n",
    "    cfg.merge_from_file(model_zoo.get_config_file(f\"COCO-Detection/{config.model['model_name']}.yaml\"))\n",
    "    cfg.DATASETS.TRAIN = (train_dataset_name,)\n",
    "    cfg.DATASETS.TEST = (test_dataset_name,)\n",
    "    cfg.DATALOADER.NUM_WORKERS = 4\n",
    "    cfg.MODEL.WEIGHTS = model_zoo.get_checkpoint_url(f\"COCO-Detection/{config.model['model_name']}.yaml\")  # Let training initialize from model zoo\n",
    "    cfg.SOLVER.IMS_PER_BATCH = config.model[\"images_per_batch\"]\n",
    "    cfg.SOLVER.BASE_LR = config.model[\"base_lr\"]  # pick a good LR\n",
    "    cfg.SOLVER.MAX_ITER = steps_per_epoch*config.model[\"epochs\"]  # 300 iterations seems good enough for this toy dataset; you will need to train longer for a practical dataset\n",
    "    cfg.SOLVER.STEPS = (steps_per_epoch*8,)\n",
    "    cfg.MODEL.ROI_HEADS.BATCH_SIZE_PER_IMAGE = config.model[\"batchsize_per_image\"]   # faster, and good enough for this toy dataset (default: 512)\n",
    "    cfg.MODEL.ROI_HEADS.NUM_CLASSES = config.model[\"num_classes\"]  # only has one class (ballon). (see https://detectron2.readthedocs.io/tutorials/datasets.html#update-the-config-for-new-datasets)\n",
    "    cfg.TEST.EVAL_PERIOD=0\n",
    "    cfg.OUTPUT_DIR = LOGS_PATH\n",
    "    cfg.OUTPUT_DIR_BEST = LOGS_PATH\n",
    "    cfg.SOLVER.AMP.ENABLED = True\n",
    "    #cfg.MODEL.WEIGHTS = \"../input/trash-taco-heavy-augs/models/best_model.pth\"\n",
    "\n",
    "    cfg.SEED = config.general[\"seed\"]\n",
    "\n",
    "    os.makedirs(cfg.OUTPUT_DIR, exist_ok=True)\n",
    "    os.makedirs(cfg.OUTPUT_DIR_BEST, exist_ok=True)\n",
    "    return cfg\n"
   ]
  },
  {
   "cell_type": "code",
   "execution_count": null,
   "metadata": {
    "id": "QTymd5RxED-w",
    "papermill": {
     "duration": 0.1826,
     "end_time": "2021-04-23T14:51:21.924609",
     "exception": false,
     "start_time": "2021-04-23T14:51:21.742009",
     "status": "completed"
    },
    "tags": []
   },
   "outputs": [],
   "source": [
    "cfg=get_config()"
   ]
  },
  {
   "cell_type": "markdown",
   "metadata": {
    "id": "hqG_5mO6ED-w",
    "papermill": {
     "duration": 0.125524,
     "end_time": "2021-04-23T14:51:22.17573",
     "exception": false,
     "start_time": "2021-04-23T14:51:22.050206",
     "status": "completed"
    },
    "tags": []
   },
   "source": [
    "# Prepare trainer"
   ]
  },
  {
   "cell_type": "code",
   "execution_count": null,
   "metadata": {
    "id": "t-dS-_KiED-w",
    "papermill": {
     "duration": 0.14103,
     "end_time": "2021-04-23T14:51:22.443905",
     "exception": false,
     "start_time": "2021-04-23T14:51:22.302875",
     "status": "completed"
    },
    "tags": []
   },
   "outputs": [],
   "source": [
    "def train(fold):\n",
    "    \"\"\"\n",
    "    train function that help train on the dataset and validate on a certain fold\n",
    "    \"\"\"\n",
    "    seed_all()\n",
    "    register_dataset(fold)\n",
    "    cfg=get_config(fold)\n",
    "    #trainer = DefaultTrainer(cfg)\n",
    "    trainer = PersonalTrainer(cfg) \n",
    "    trainer.resume_or_load(resume=False)\n",
    "    trainer.evaluator = COCOEvaluator(f\"my_dataset_test_{fold}\", (\"bbox\",), False, output_dir=None)\n",
    "    trainer.train()\n",
    "    "
   ]
  },
  {
   "cell_type": "code",
   "execution_count": null,
   "metadata": {
    "id": "9UNwptwrED-x",
    "outputId": "c6dddf10-ec92-4a7a-ff1d-5f456666468b",
    "papermill": {
     "duration": 30513.806379,
     "end_time": "2021-04-23T23:19:56.377786",
     "exception": false,
     "start_time": "2021-04-23T14:51:22.571407",
     "status": "completed"
    },
    "tags": []
   },
   "outputs": [],
   "source": [
    "train(0)"
   ]
  },
  {
   "cell_type": "markdown",
   "metadata": {
    "id": "goIHpnTXED-y",
    "papermill": {
     "duration": 0.469457,
     "end_time": "2021-04-23T23:19:57.364259",
     "exception": false,
     "start_time": "2021-04-23T23:19:56.894802",
     "status": "completed"
    },
    "tags": []
   },
   "source": [
    "# Prepare Output"
   ]
  },
  {
   "cell_type": "code",
   "execution_count": null,
   "metadata": {
    "id": "9sWii-FSED-z",
    "papermill": {
     "duration": 0.532544,
     "end_time": "2021-04-23T23:19:58.36512",
     "exception": false,
     "start_time": "2021-04-23T23:19:57.832576",
     "status": "completed"
    },
    "tags": []
   },
   "outputs": [],
   "source": [
    "with open(os.path.join(CONFIG_PATH,\"detectron_config.yaml\"),\"w\") as f:\n",
    "    f.write(get_config().dump())"
   ]
  },
  {
   "cell_type": "code",
   "execution_count": null,
   "metadata": {
    "id": "uhOMK3cOED-z",
    "outputId": "d59b43a2-356f-4c5f-fcaa-4868e516b450",
    "papermill": {
     "duration": 1.308196,
     "end_time": "2021-04-23T23:20:00.14086",
     "exception": false,
     "start_time": "2021-04-23T23:19:58.832664",
     "status": "completed"
    },
    "tags": []
   },
   "outputs": [],
   "source": [
    "%ls logs"
   ]
  },
  {
   "cell_type": "code",
   "execution_count": null,
   "metadata": {
    "id": "yjShC_zvED-z",
    "outputId": "6bc3e6d9-f081-46ad-955a-4ab47c79c8a4",
    "papermill": {
     "duration": 1.553975,
     "end_time": "2021-04-23T23:20:02.216495",
     "exception": false,
     "start_time": "2021-04-23T23:20:00.66252",
     "status": "completed"
    },
    "tags": []
   },
   "outputs": [],
   "source": [
    "%ls models"
   ]
  },
  {
   "cell_type": "code",
   "execution_count": null,
   "metadata": {
    "id": "OK_zwp-2ED-0",
    "outputId": "4254b986-bc1e-4194-e172-bfe1d5ec7020",
    "papermill": {
     "duration": 1.31135,
     "end_time": "2021-04-23T23:20:04.003576",
     "exception": false,
     "start_time": "2021-04-23T23:20:02.692226",
     "status": "completed"
    },
    "tags": []
   },
   "outputs": [],
   "source": [
    "%ls configs"
   ]
  },
  {
   "cell_type": "markdown",
   "metadata": {
    "id": "5F5_h9ZLED-1",
    "papermill": {
     "duration": 0.464987,
     "end_time": "2021-04-23T23:20:05.905203",
     "exception": false,
     "start_time": "2021-04-23T23:20:05.440216",
     "status": "completed"
    },
    "tags": []
   },
   "source": [
    "# Test Dataset (without validation augmentation)"
   ]
  },
  {
   "cell_type": "code",
   "execution_count": null,
   "metadata": {
    "id": "QJggkCNbED-1",
    "papermill": {
     "duration": 0.500304,
     "end_time": "2021-04-23T23:20:06.899804",
     "exception": false,
     "start_time": "2021-04-23T23:20:06.3995",
     "status": "completed"
    },
    "tags": []
   },
   "outputs": [],
   "source": [
    "metrics={}"
   ]
  },
  {
   "cell_type": "code",
   "execution_count": null,
   "metadata": {
    "id": "mOyVMdxYED-1",
    "papermill": {
     "duration": 2.300522,
     "end_time": "2021-04-23T23:20:09.672494",
     "exception": false,
     "start_time": "2021-04-23T23:20:07.371972",
     "status": "completed"
    },
    "tags": []
   },
   "outputs": [],
   "source": [
    "cfg=get_config()\n",
    "cfg.MODEL.WEIGHTS = os.path.join(MODELS_PATH, \"best_model.pth\")  # path to the model we just trained\n",
    "model = build_model(cfg)\n",
    "m=DetectionCheckpointer(model).load(cfg.MODEL.WEIGHTS)"
   ]
  },
  {
   "cell_type": "code",
   "execution_count": null,
   "metadata": {
    "id": "QhmN1En7ED-2",
    "outputId": "8b3f4e84-62f0-4354-fc39-1e9c8b3a22bd",
    "papermill": {
     "duration": 128.826123,
     "end_time": "2021-04-23T23:22:19.297446",
     "exception": false,
     "start_time": "2021-04-23T23:20:10.471323",
     "status": "completed"
    },
    "tags": []
   },
   "outputs": [],
   "source": [
    "evaluator = COCOEvaluator(\"my_dataset_test_0\", (\"bbox\",), False, output_dir=LOGS_PATH)\n",
    "val_loader = build_detection_test_loader(cfg, \"my_dataset_test_0\")\n",
    "train_metric=inference_on_dataset(model, val_loader, evaluator)\n",
    "metrics[\"train_metric\"]=train_metric"
   ]
  },
  {
   "cell_type": "code",
   "execution_count": null,
   "metadata": {
    "id": "6ec3dABzED-2",
    "outputId": "002c844b-5e8c-457a-b4fe-7f66c9c85732",
    "papermill": {
     "duration": 535.328787,
     "end_time": "2021-04-23T23:31:15.116513",
     "exception": false,
     "start_time": "2021-04-23T23:22:19.787726",
     "status": "completed"
    },
    "tags": []
   },
   "outputs": [],
   "source": [
    "evaluator = COCOEvaluator(\"my_dataset_train_0\", (\"bbox\",), False, output_dir=LOGS_PATH)\n",
    "val_loader = build_detection_test_loader(cfg, \"my_dataset_train_0\")\n",
    "valid_metric=inference_on_dataset(model, val_loader, evaluator)\n",
    "metrics[\"valid_metric\"]=valid_metric"
   ]
  },
  {
   "cell_type": "code",
   "execution_count": null,
   "metadata": {
    "id": "iE3NWP7uED-2",
    "papermill": {
     "duration": 0.552545,
     "end_time": "2021-04-23T23:31:16.203334",
     "exception": false,
     "start_time": "2021-04-23T23:31:15.650789",
     "status": "completed"
    },
    "tags": []
   },
   "outputs": [],
   "source": [
    "dump_dict(metrics,os.path.join(LOGS_PATH,\"metrics.yaml\"))"
   ]
  }
 ],
 "metadata": {
  "kernelspec": {
   "display_name": "Python 3",
   "language": "python",
   "name": "python3"
  },
  "language_info": {
   "codemirror_mode": {
    "name": "ipython",
    "version": 3
   },
   "file_extension": ".py",
   "mimetype": "text/x-python",
   "name": "python",
   "nbconvert_exporter": "python",
   "pygments_lexer": "ipython3",
   "version": "3.8.8"
  },
  "varInspector": {
   "cols": {
    "lenName": 16,
    "lenType": 16,
    "lenVar": 40
   },
   "kernels_config": {
    "python": {
     "delete_cmd_postfix": "",
     "delete_cmd_prefix": "del ",
     "library": "var_list.py",
     "varRefreshCmd": "print(var_dic_list())"
    },
    "r": {
     "delete_cmd_postfix": ") ",
     "delete_cmd_prefix": "rm(",
     "library": "var_list.r",
     "varRefreshCmd": "cat(var_dic_list()) "
    }
   },
   "types_to_exclude": [
    "module",
    "function",
    "builtin_function_or_method",
    "instance",
    "_Feature"
   ],
   "window_display": false
  }
 },
 "nbformat": 4,
 "nbformat_minor": 4
}
